{
 "cells": [
  {
   "cell_type": "code",
   "execution_count": 28,
   "metadata": {},
   "outputs": [],
   "source": [
    "import numpy as np\n",
    "import pandas as pd \n",
    "import matplotlib.pyplot as plt\n",
    "import seaborn as sns\n",
    "from sklearn.model_selection import train_test_split\n",
    "from sklearn.ensemble import RandomForestRegressor\n",
    "from sklearn import metrics"
   ]
  },
  {
   "cell_type": "code",
   "execution_count": 29,
   "metadata": {},
   "outputs": [
    {
     "data": {
      "application/vnd.microsoft.datawrangler.viewer.v0+json": {
       "columns": [
        {
         "name": "index",
         "rawType": "int64",
         "type": "integer"
        },
        {
         "name": "Date",
         "rawType": "object",
         "type": "string"
        },
        {
         "name": "SPX",
         "rawType": "float64",
         "type": "float"
        },
        {
         "name": "GLD",
         "rawType": "float64",
         "type": "float"
        },
        {
         "name": "USO",
         "rawType": "float64",
         "type": "float"
        },
        {
         "name": "SLV",
         "rawType": "float64",
         "type": "float"
        },
        {
         "name": "EUR/USD",
         "rawType": "float64",
         "type": "float"
        }
       ],
       "conversionMethod": "pd.DataFrame",
       "ref": "7195d4f5-30b4-4269-a48f-65a9e1e1a997",
       "rows": [
        [
         "0",
         "1/2/2008",
         "1447.160034",
         "84.860001",
         "78.470001",
         "15.18",
         "1.471692"
        ],
        [
         "1",
         "1/3/2008",
         "1447.160034",
         "85.57",
         "78.370003",
         "15.285",
         "1.474491"
        ],
        [
         "2",
         "1/4/2008",
         "1411.630005",
         "85.129997",
         "77.309998",
         "15.167",
         "1.475492"
        ],
        [
         "3",
         "1/7/2008",
         "1416.180054",
         "84.769997",
         "75.5",
         "15.053",
         "1.468299"
        ],
        [
         "4",
         "1/8/2008",
         "1390.189941",
         "86.779999",
         "76.059998",
         "15.59",
         "1.557099"
        ],
        [
         "5",
         "1/9/2008",
         "1409.130005",
         "86.550003",
         "75.25",
         "15.52",
         "1.466405"
        ],
        [
         "6",
         "1/10/2008",
         "1420.329956",
         "88.25",
         "74.019997",
         "16.061001",
         "1.4801"
        ],
        [
         "7",
         "1/11/2008",
         "1401.02002",
         "88.580002",
         "73.089996",
         "16.077",
         "1.479006"
        ],
        [
         "8",
         "1/14/2008",
         "1416.25",
         "89.540001",
         "74.25",
         "16.280001",
         "1.4869"
        ],
        [
         "9",
         "1/15/2008",
         "1380.949951",
         "87.989998",
         "72.779999",
         "15.834",
         "1.48021"
        ],
        [
         "10",
         "1/16/2008",
         "1373.199951",
         "86.699997",
         "71.849998",
         "15.654",
         "1.466405"
        ],
        [
         "11",
         "1/17/2008",
         "1333.25",
         "86.5",
         "71.029999",
         "15.717",
         "1.464"
        ],
        [
         "12",
         "1/18/2008",
         "1325.189941",
         "87.419998",
         "71.540001",
         "16.030001",
         "1.461796"
        ],
        [
         "13",
         "1/22/2008",
         "1310.5",
         "88.169998",
         "70.550003",
         "15.902",
         "1.464794"
        ],
        [
         "14",
         "1/23/2008",
         "1338.599976",
         "87.889999",
         "69.5",
         "15.9",
         "1.463208"
        ],
        [
         "15",
         "1/24/2008",
         "1352.069946",
         "90.080002",
         "70.93",
         "16.299999",
         "1.47741"
        ],
        [
         "16",
         "1/25/2008",
         "1330.609985",
         "90.300003",
         "71.910004",
         "16.298",
         "1.467502"
        ],
        [
         "17",
         "1/28/2008",
         "1353.959961",
         "91.75",
         "72.349998",
         "16.549999",
         "1.478809"
        ],
        [
         "18",
         "1/29/2008",
         "1362.300049",
         "91.150002",
         "72.980003",
         "16.534",
         "1.477192"
        ],
        [
         "19",
         "1/30/2008",
         "1355.810059",
         "92.059998",
         "73.080002",
         "16.674999",
         "1.483107"
        ],
        [
         "20",
         "1/31/2008",
         "1378.550049",
         "91.400002",
         "72.349998",
         "16.818001",
         "1.486503"
        ],
        [
         "21",
         "2/1/2008",
         "1395.420044",
         "89.349998",
         "70.470001",
         "16.618999",
         "1.479991"
        ],
        [
         "22",
         "2/4/2008",
         "1380.819946",
         "89.099998",
         "71.370003",
         "16.514999",
         "1.4828"
        ],
        [
         "23",
         "2/5/2008",
         "1336.640015",
         "87.68",
         "70.150002",
         "16.167",
         "1.463807"
        ],
        [
         "24",
         "2/6/2008",
         "1326.449951",
         "88.949997",
         "69.019997",
         "16.375",
         "1.46171"
        ],
        [
         "25",
         "2/7/2008",
         "1336.910034",
         "89.849998",
         "69.800003",
         "16.67",
         "1.44789"
        ],
        [
         "26",
         "2/8/2008",
         "1331.290039",
         "91.0",
         "72.900002",
         "17.025999",
         "1.557099"
        ],
        [
         "27",
         "2/11/2008",
         "1339.130005",
         "91.330002",
         "74.550003",
         "17.4",
         "1.4502"
        ],
        [
         "28",
         "2/12/2008",
         "1348.859985",
         "89.330002",
         "73.589996",
         "17.033001",
         "1.458194"
        ],
        [
         "29",
         "2/13/2008",
         "1367.209961",
         "89.440002",
         "74.110001",
         "17.132",
         "1.455604"
        ],
        [
         "30",
         "2/14/2008",
         "1348.859985",
         "89.709999",
         "75.760002",
         "17.087",
         "1.464408"
        ],
        [
         "31",
         "2/15/2008",
         "1349.98999",
         "89.150002",
         "75.93",
         "16.952",
         "1.46761"
        ],
        [
         "32",
         "2/19/2008",
         "1348.780029",
         "91.580002",
         "78.809998",
         "17.378",
         "1.472993"
        ],
        [
         "33",
         "2/20/2008",
         "1360.030029",
         "93.239998",
         "79.32",
         "17.700001",
         "1.472299"
        ],
        [
         "34",
         "2/21/2008",
         "1342.530029",
         "93.25",
         "77.330002",
         "17.695999",
         "1.481503"
        ],
        [
         "35",
         "2/22/2008",
         "1353.109985",
         "93.389999",
         "78.599998",
         "17.916",
         "1.482602"
        ],
        [
         "36",
         "2/25/2008",
         "1371.800049",
         "92.739998",
         "78.739998",
         "17.99",
         "1.483591"
        ],
        [
         "37",
         "2/26/2008",
         "1381.290039",
         "93.709999",
         "80.099998",
         "18.6",
         "1.49961"
        ],
        [
         "38",
         "2/27/2008",
         "1380.02002",
         "94.779999",
         "78.919998",
         "19.132999",
         "1.511807"
        ],
        [
         "39",
         "2/28/2008",
         "1367.680054",
         "95.989998",
         "81.480003",
         "19.666",
         "1.519595"
        ],
        [
         "40",
         "2/29/2008",
         "1330.630005",
         "96.18",
         "80.419998",
         "19.667999",
         "1.519203"
        ],
        [
         "41",
         "3/3/2008",
         "1331.339966",
         "97.239998",
         "81.32",
         "20.163",
         "1.520011"
        ],
        [
         "42",
         "3/4/2008",
         "1326.75",
         "95.18",
         "79.400002",
         "19.620001",
         "1.521005"
        ],
        [
         "43",
         "3/5/2008",
         "1333.699951",
         "97.720001",
         "83.300003",
         "20.621",
         "1.527697"
        ],
        [
         "44",
         "3/6/2008",
         "1304.339966",
         "96.5",
         "83.889999",
         "20.075001",
         "1.538509"
        ],
        [
         "45",
         "3/7/2008",
         "1293.369995",
         "96.089996",
         "83.730003",
         "20.040001",
         "1.533601"
        ],
        [
         "46",
         "3/10/2008",
         "1273.369995",
         "95.870003",
         "85.629997",
         "19.475",
         "1.534095"
        ],
        [
         "47",
         "3/11/2008",
         "1320.650024",
         "95.989998",
         "86.339996",
         "19.52",
         "1.534189"
        ],
        [
         "48",
         "3/12/2008",
         "1308.77002",
         "97.010002",
         "86.919998",
         "19.969999",
         "1.554002"
        ],
        [
         "49",
         "3/13/2008",
         "1315.47998",
         "98.339996",
         "87.209999",
         "20.406",
         "1.562207"
        ]
       ],
       "shape": {
        "columns": 6,
        "rows": 2290
       }
      },
      "text/html": [
       "<div>\n",
       "<style scoped>\n",
       "    .dataframe tbody tr th:only-of-type {\n",
       "        vertical-align: middle;\n",
       "    }\n",
       "\n",
       "    .dataframe tbody tr th {\n",
       "        vertical-align: top;\n",
       "    }\n",
       "\n",
       "    .dataframe thead th {\n",
       "        text-align: right;\n",
       "    }\n",
       "</style>\n",
       "<table border=\"1\" class=\"dataframe\">\n",
       "  <thead>\n",
       "    <tr style=\"text-align: right;\">\n",
       "      <th></th>\n",
       "      <th>Date</th>\n",
       "      <th>SPX</th>\n",
       "      <th>GLD</th>\n",
       "      <th>USO</th>\n",
       "      <th>SLV</th>\n",
       "      <th>EUR/USD</th>\n",
       "    </tr>\n",
       "  </thead>\n",
       "  <tbody>\n",
       "    <tr>\n",
       "      <th>0</th>\n",
       "      <td>1/2/2008</td>\n",
       "      <td>1447.160034</td>\n",
       "      <td>84.860001</td>\n",
       "      <td>78.470001</td>\n",
       "      <td>15.1800</td>\n",
       "      <td>1.471692</td>\n",
       "    </tr>\n",
       "    <tr>\n",
       "      <th>1</th>\n",
       "      <td>1/3/2008</td>\n",
       "      <td>1447.160034</td>\n",
       "      <td>85.570000</td>\n",
       "      <td>78.370003</td>\n",
       "      <td>15.2850</td>\n",
       "      <td>1.474491</td>\n",
       "    </tr>\n",
       "    <tr>\n",
       "      <th>2</th>\n",
       "      <td>1/4/2008</td>\n",
       "      <td>1411.630005</td>\n",
       "      <td>85.129997</td>\n",
       "      <td>77.309998</td>\n",
       "      <td>15.1670</td>\n",
       "      <td>1.475492</td>\n",
       "    </tr>\n",
       "    <tr>\n",
       "      <th>3</th>\n",
       "      <td>1/7/2008</td>\n",
       "      <td>1416.180054</td>\n",
       "      <td>84.769997</td>\n",
       "      <td>75.500000</td>\n",
       "      <td>15.0530</td>\n",
       "      <td>1.468299</td>\n",
       "    </tr>\n",
       "    <tr>\n",
       "      <th>4</th>\n",
       "      <td>1/8/2008</td>\n",
       "      <td>1390.189941</td>\n",
       "      <td>86.779999</td>\n",
       "      <td>76.059998</td>\n",
       "      <td>15.5900</td>\n",
       "      <td>1.557099</td>\n",
       "    </tr>\n",
       "    <tr>\n",
       "      <th>...</th>\n",
       "      <td>...</td>\n",
       "      <td>...</td>\n",
       "      <td>...</td>\n",
       "      <td>...</td>\n",
       "      <td>...</td>\n",
       "      <td>...</td>\n",
       "    </tr>\n",
       "    <tr>\n",
       "      <th>2285</th>\n",
       "      <td>5/8/2018</td>\n",
       "      <td>2671.919922</td>\n",
       "      <td>124.589996</td>\n",
       "      <td>14.060000</td>\n",
       "      <td>15.5100</td>\n",
       "      <td>1.186789</td>\n",
       "    </tr>\n",
       "    <tr>\n",
       "      <th>2286</th>\n",
       "      <td>5/9/2018</td>\n",
       "      <td>2697.790039</td>\n",
       "      <td>124.330002</td>\n",
       "      <td>14.370000</td>\n",
       "      <td>15.5300</td>\n",
       "      <td>1.184722</td>\n",
       "    </tr>\n",
       "    <tr>\n",
       "      <th>2287</th>\n",
       "      <td>5/10/2018</td>\n",
       "      <td>2723.070068</td>\n",
       "      <td>125.180000</td>\n",
       "      <td>14.410000</td>\n",
       "      <td>15.7400</td>\n",
       "      <td>1.191753</td>\n",
       "    </tr>\n",
       "    <tr>\n",
       "      <th>2288</th>\n",
       "      <td>5/14/2018</td>\n",
       "      <td>2730.129883</td>\n",
       "      <td>124.489998</td>\n",
       "      <td>14.380000</td>\n",
       "      <td>15.5600</td>\n",
       "      <td>1.193118</td>\n",
       "    </tr>\n",
       "    <tr>\n",
       "      <th>2289</th>\n",
       "      <td>5/16/2018</td>\n",
       "      <td>2725.780029</td>\n",
       "      <td>122.543800</td>\n",
       "      <td>14.405800</td>\n",
       "      <td>15.4542</td>\n",
       "      <td>1.182033</td>\n",
       "    </tr>\n",
       "  </tbody>\n",
       "</table>\n",
       "<p>2290 rows × 6 columns</p>\n",
       "</div>"
      ],
      "text/plain": [
       "           Date          SPX         GLD        USO      SLV   EUR/USD\n",
       "0      1/2/2008  1447.160034   84.860001  78.470001  15.1800  1.471692\n",
       "1      1/3/2008  1447.160034   85.570000  78.370003  15.2850  1.474491\n",
       "2      1/4/2008  1411.630005   85.129997  77.309998  15.1670  1.475492\n",
       "3      1/7/2008  1416.180054   84.769997  75.500000  15.0530  1.468299\n",
       "4      1/8/2008  1390.189941   86.779999  76.059998  15.5900  1.557099\n",
       "...         ...          ...         ...        ...      ...       ...\n",
       "2285   5/8/2018  2671.919922  124.589996  14.060000  15.5100  1.186789\n",
       "2286   5/9/2018  2697.790039  124.330002  14.370000  15.5300  1.184722\n",
       "2287  5/10/2018  2723.070068  125.180000  14.410000  15.7400  1.191753\n",
       "2288  5/14/2018  2730.129883  124.489998  14.380000  15.5600  1.193118\n",
       "2289  5/16/2018  2725.780029  122.543800  14.405800  15.4542  1.182033\n",
       "\n",
       "[2290 rows x 6 columns]"
      ]
     },
     "execution_count": 29,
     "metadata": {},
     "output_type": "execute_result"
    }
   ],
   "source": [
    "gold_data=pd.read_csv(\"gld_price_data.csv\")\n",
    "gold_data"
   ]
  },
  {
   "cell_type": "code",
   "execution_count": 30,
   "metadata": {},
   "outputs": [
    {
     "data": {
      "text/plain": [
       "(2290, 6)"
      ]
     },
     "execution_count": 30,
     "metadata": {},
     "output_type": "execute_result"
    }
   ],
   "source": [
    "gold_data.shape"
   ]
  },
  {
   "cell_type": "code",
   "execution_count": 31,
   "metadata": {},
   "outputs": [
    {
     "data": {
      "application/vnd.microsoft.datawrangler.viewer.v0+json": {
       "columns": [
        {
         "name": "index",
         "rawType": "object",
         "type": "string"
        },
        {
         "name": "SPX",
         "rawType": "float64",
         "type": "float"
        },
        {
         "name": "GLD",
         "rawType": "float64",
         "type": "float"
        },
        {
         "name": "USO",
         "rawType": "float64",
         "type": "float"
        },
        {
         "name": "SLV",
         "rawType": "float64",
         "type": "float"
        },
        {
         "name": "EUR/USD",
         "rawType": "float64",
         "type": "float"
        }
       ],
       "conversionMethod": "pd.DataFrame",
       "ref": "22859975-3b0c-42db-a81a-66b593814752",
       "rows": [
        [
         "count",
         "2290.0",
         "2290.0",
         "2290.0",
         "2290.0",
         "2290.0"
        ],
        [
         "mean",
         "1654.3157764318778",
         "122.73287507292576",
         "31.842220856768563",
         "20.084996585152837",
         "1.2836530519650655"
        ],
        [
         "std",
         "519.1115402032954",
         "23.28334574711753",
         "19.523517029775018",
         "7.092566374075398",
         "0.13154721612113973"
        ],
        [
         "min",
         "676.530029",
         "70.0",
         "7.96",
         "8.85",
         "1.039047"
        ],
        [
         "25%",
         "1239.87496925",
         "109.72500025",
         "14.38",
         "15.57",
         "1.171313"
        ],
        [
         "50%",
         "1551.4349975",
         "120.580002",
         "33.869999",
         "17.2685",
         "1.3032965"
        ],
        [
         "75%",
         "2073.0100705",
         "132.84000400000002",
         "37.8275015",
         "22.8824995",
         "1.36997075"
        ],
        [
         "max",
         "2872.870117",
         "184.589996",
         "117.480003",
         "47.259998",
         "1.598798"
        ]
       ],
       "shape": {
        "columns": 5,
        "rows": 8
       }
      },
      "text/html": [
       "<div>\n",
       "<style scoped>\n",
       "    .dataframe tbody tr th:only-of-type {\n",
       "        vertical-align: middle;\n",
       "    }\n",
       "\n",
       "    .dataframe tbody tr th {\n",
       "        vertical-align: top;\n",
       "    }\n",
       "\n",
       "    .dataframe thead th {\n",
       "        text-align: right;\n",
       "    }\n",
       "</style>\n",
       "<table border=\"1\" class=\"dataframe\">\n",
       "  <thead>\n",
       "    <tr style=\"text-align: right;\">\n",
       "      <th></th>\n",
       "      <th>SPX</th>\n",
       "      <th>GLD</th>\n",
       "      <th>USO</th>\n",
       "      <th>SLV</th>\n",
       "      <th>EUR/USD</th>\n",
       "    </tr>\n",
       "  </thead>\n",
       "  <tbody>\n",
       "    <tr>\n",
       "      <th>count</th>\n",
       "      <td>2290.000000</td>\n",
       "      <td>2290.000000</td>\n",
       "      <td>2290.000000</td>\n",
       "      <td>2290.000000</td>\n",
       "      <td>2290.000000</td>\n",
       "    </tr>\n",
       "    <tr>\n",
       "      <th>mean</th>\n",
       "      <td>1654.315776</td>\n",
       "      <td>122.732875</td>\n",
       "      <td>31.842221</td>\n",
       "      <td>20.084997</td>\n",
       "      <td>1.283653</td>\n",
       "    </tr>\n",
       "    <tr>\n",
       "      <th>std</th>\n",
       "      <td>519.111540</td>\n",
       "      <td>23.283346</td>\n",
       "      <td>19.523517</td>\n",
       "      <td>7.092566</td>\n",
       "      <td>0.131547</td>\n",
       "    </tr>\n",
       "    <tr>\n",
       "      <th>min</th>\n",
       "      <td>676.530029</td>\n",
       "      <td>70.000000</td>\n",
       "      <td>7.960000</td>\n",
       "      <td>8.850000</td>\n",
       "      <td>1.039047</td>\n",
       "    </tr>\n",
       "    <tr>\n",
       "      <th>25%</th>\n",
       "      <td>1239.874969</td>\n",
       "      <td>109.725000</td>\n",
       "      <td>14.380000</td>\n",
       "      <td>15.570000</td>\n",
       "      <td>1.171313</td>\n",
       "    </tr>\n",
       "    <tr>\n",
       "      <th>50%</th>\n",
       "      <td>1551.434998</td>\n",
       "      <td>120.580002</td>\n",
       "      <td>33.869999</td>\n",
       "      <td>17.268500</td>\n",
       "      <td>1.303297</td>\n",
       "    </tr>\n",
       "    <tr>\n",
       "      <th>75%</th>\n",
       "      <td>2073.010070</td>\n",
       "      <td>132.840004</td>\n",
       "      <td>37.827501</td>\n",
       "      <td>22.882500</td>\n",
       "      <td>1.369971</td>\n",
       "    </tr>\n",
       "    <tr>\n",
       "      <th>max</th>\n",
       "      <td>2872.870117</td>\n",
       "      <td>184.589996</td>\n",
       "      <td>117.480003</td>\n",
       "      <td>47.259998</td>\n",
       "      <td>1.598798</td>\n",
       "    </tr>\n",
       "  </tbody>\n",
       "</table>\n",
       "</div>"
      ],
      "text/plain": [
       "               SPX          GLD          USO          SLV      EUR/USD\n",
       "count  2290.000000  2290.000000  2290.000000  2290.000000  2290.000000\n",
       "mean   1654.315776   122.732875    31.842221    20.084997     1.283653\n",
       "std     519.111540    23.283346    19.523517     7.092566     0.131547\n",
       "min     676.530029    70.000000     7.960000     8.850000     1.039047\n",
       "25%    1239.874969   109.725000    14.380000    15.570000     1.171313\n",
       "50%    1551.434998   120.580002    33.869999    17.268500     1.303297\n",
       "75%    2073.010070   132.840004    37.827501    22.882500     1.369971\n",
       "max    2872.870117   184.589996   117.480003    47.259998     1.598798"
      ]
     },
     "execution_count": 31,
     "metadata": {},
     "output_type": "execute_result"
    }
   ],
   "source": [
    "gold_data.describe()"
   ]
  },
  {
   "cell_type": "code",
   "execution_count": 32,
   "metadata": {},
   "outputs": [
    {
     "data": {
      "text/plain": [
       "Date       0\n",
       "SPX        0\n",
       "GLD        0\n",
       "USO        0\n",
       "SLV        0\n",
       "EUR/USD    0\n",
       "dtype: int64"
      ]
     },
     "execution_count": 32,
     "metadata": {},
     "output_type": "execute_result"
    }
   ],
   "source": [
    "gold_data.isna().sum()"
   ]
  },
  {
   "cell_type": "code",
   "execution_count": 33,
   "metadata": {},
   "outputs": [
    {
     "name": "stdout",
     "output_type": "stream",
     "text": [
      "109.72500025\n"
     ]
    }
   ],
   "source": [
    "Q1 = gold_data['GLD'].quantile(0.25)\n",
    "print(Q1)"
   ]
  },
  {
   "cell_type": "code",
   "execution_count": 34,
   "metadata": {},
   "outputs": [
    {
     "name": "stdout",
     "output_type": "stream",
     "text": [
      "132.84000400000002\n"
     ]
    }
   ],
   "source": [
    "Q3 = gold_data['GLD'].quantile(0.75)\n",
    "print(Q3)"
   ]
  },
  {
   "cell_type": "code",
   "execution_count": 35,
   "metadata": {},
   "outputs": [],
   "source": [
    "IQR = Q3 - Q1"
   ]
  },
  {
   "cell_type": "code",
   "execution_count": 36,
   "metadata": {},
   "outputs": [],
   "source": [
    "lower_bound = Q1 - 1.5 * IQR\n",
    "upper_bound = Q3 + 1.5 * IQR"
   ]
  },
  {
   "cell_type": "code",
   "execution_count": 37,
   "metadata": {},
   "outputs": [],
   "source": [
    "df_clean = gold_data[(gold_data['GLD'] >= lower_bound) & (gold_data['GLD'] <= upper_bound)]"
   ]
  },
  {
   "cell_type": "code",
   "execution_count": 38,
   "metadata": {},
   "outputs": [
    {
     "name": "stdout",
     "output_type": "stream",
     "text": [
      "\n",
      "Data after removing outliers:\n",
      "           Date          SPX         GLD        USO      SLV   EUR/USD\n",
      "0      1/2/2008  1447.160034   84.860001  78.470001  15.1800  1.471692\n",
      "1      1/3/2008  1447.160034   85.570000  78.370003  15.2850  1.474491\n",
      "2      1/4/2008  1411.630005   85.129997  77.309998  15.1670  1.475492\n",
      "3      1/7/2008  1416.180054   84.769997  75.500000  15.0530  1.468299\n",
      "4      1/8/2008  1390.189941   86.779999  76.059998  15.5900  1.557099\n",
      "...         ...          ...         ...        ...      ...       ...\n",
      "2285   5/8/2018  2671.919922  124.589996  14.060000  15.5100  1.186789\n",
      "2286   5/9/2018  2697.790039  124.330002  14.370000  15.5300  1.184722\n",
      "2287  5/10/2018  2723.070068  125.180000  14.410000  15.7400  1.191753\n",
      "2288  5/14/2018  2730.129883  124.489998  14.380000  15.5600  1.193118\n",
      "2289  5/16/2018  2725.780029  122.543800  14.405800  15.4542  1.182033\n",
      "\n",
      "[2175 rows x 6 columns]\n"
     ]
    }
   ],
   "source": [
    "print(\"\\nData after removing outliers:\")\n",
    "print(df_clean)"
   ]
  },
  {
   "cell_type": "code",
   "execution_count": 40,
   "metadata": {},
   "outputs": [
    {
     "data": {
      "text/plain": [
       "<seaborn.axisgrid.FacetGrid at 0x192bd717d90>"
      ]
     },
     "execution_count": 40,
     "metadata": {},
     "output_type": "execute_result"
    },
    {
     "data": {
      "image/png": "[encoded data removed]",
      "text/plain": [
       "<Figure size 500x500 with 1 Axes>"
      ]
     },
     "metadata": {},
     "output_type": "display_data"
    }
   ],
   "source": [
    "sns.displot(gold_data[\"GLD\"], color=\"red\", kde=True) "
   ]
  },
  {
   "cell_type": "code",
   "execution_count": 41,
   "metadata": {},
   "outputs": [],
   "source": [
    "x=gold_data.drop(['Date','GLD'],axis=1)\n",
    "y=gold_data[\"GLD\"]"
   ]
  },
  {
   "cell_type": "code",
   "execution_count": 42,
   "metadata": {},
   "outputs": [
    {
     "data": {
      "text/plain": [
       "0        84.860001\n",
       "1        85.570000\n",
       "2        85.129997\n",
       "3        84.769997\n",
       "4        86.779999\n",
       "           ...    \n",
       "2285    124.589996\n",
       "2286    124.330002\n",
       "2287    125.180000\n",
       "2288    124.489998\n",
       "2289    122.543800\n",
       "Name: GLD, Length: 2290, dtype: float64"
      ]
     },
     "execution_count": 42,
     "metadata": {},
     "output_type": "execute_result"
    }
   ],
   "source": [
    "y"
   ]
  },
  {
   "cell_type": "code",
   "execution_count": 43,
   "metadata": {},
   "outputs": [
    {
     "data": {
      "application/vnd.microsoft.datawrangler.viewer.v0+json": {
       "columns": [
        {
         "name": "index",
         "rawType": "int64",
         "type": "integer"
        },
        {
         "name": "SPX",
         "rawType": "float64",
         "type": "float"
        },
        {
         "name": "USO",
         "rawType": "float64",
         "type": "float"
        },
        {
         "name": "SLV",
         "rawType": "float64",
         "type": "float"
        },
        {
         "name": "EUR/USD",
         "rawType": "float64",
         "type": "float"
        }
       ],
       "conversionMethod": "pd.DataFrame",
       "ref": "fd2a9e3f-5fef-424f-a031-aef87832262e",
       "rows": [
        [
         "0",
         "1447.160034",
         "78.470001",
         "15.18",
         "1.471692"
        ],
        [
         "1",
         "1447.160034",
         "78.370003",
         "15.285",
         "1.474491"
        ],
        [
         "2",
         "1411.630005",
         "77.309998",
         "15.167",
         "1.475492"
        ],
        [
         "3",
         "1416.180054",
         "75.5",
         "15.053",
         "1.468299"
        ],
        [
         "4",
         "1390.189941",
         "76.059998",
         "15.59",
         "1.557099"
        ],
        [
         "5",
         "1409.130005",
         "75.25",
         "15.52",
         "1.466405"
        ],
        [
         "6",
         "1420.329956",
         "74.019997",
         "16.061001",
         "1.4801"
        ],
        [
         "7",
         "1401.02002",
         "73.089996",
         "16.077",
         "1.479006"
        ],
        [
         "8",
         "1416.25",
         "74.25",
         "16.280001",
         "1.4869"
        ],
        [
         "9",
         "1380.949951",
         "72.779999",
         "15.834",
         "1.48021"
        ],
        [
         "10",
         "1373.199951",
         "71.849998",
         "15.654",
         "1.466405"
        ],
        [
         "11",
         "1333.25",
         "71.029999",
         "15.717",
         "1.464"
        ],
        [
         "12",
         "1325.189941",
         "71.540001",
         "16.030001",
         "1.461796"
        ],
        [
         "13",
         "1310.5",
         "70.550003",
         "15.902",
         "1.464794"
        ],
        [
         "14",
         "1338.599976",
         "69.5",
         "15.9",
         "1.463208"
        ],
        [
         "15",
         "1352.069946",
         "70.93",
         "16.299999",
         "1.47741"
        ],
        [
         "16",
         "1330.609985",
         "71.910004",
         "16.298",
         "1.467502"
        ],
        [
         "17",
         "1353.959961",
         "72.349998",
         "16.549999",
         "1.478809"
        ],
        [
         "18",
         "1362.300049",
         "72.980003",
         "16.534",
         "1.477192"
        ],
        [
         "19",
         "1355.810059",
         "73.080002",
         "16.674999",
         "1.483107"
        ],
        [
         "20",
         "1378.550049",
         "72.349998",
         "16.818001",
         "1.486503"
        ],
        [
         "21",
         "1395.420044",
         "70.470001",
         "16.618999",
         "1.479991"
        ],
        [
         "22",
         "1380.819946",
         "71.370003",
         "16.514999",
         "1.4828"
        ],
        [
         "23",
         "1336.640015",
         "70.150002",
         "16.167",
         "1.463807"
        ],
        [
         "24",
         "1326.449951",
         "69.019997",
         "16.375",
         "1.46171"
        ],
        [
         "25",
         "1336.910034",
         "69.800003",
         "16.67",
         "1.44789"
        ],
        [
         "26",
         "1331.290039",
         "72.900002",
         "17.025999",
         "1.557099"
        ],
        [
         "27",
         "1339.130005",
         "74.550003",
         "17.4",
         "1.4502"
        ],
        [
         "28",
         "1348.859985",
         "73.589996",
         "17.033001",
         "1.458194"
        ],
        [
         "29",
         "1367.209961",
         "74.110001",
         "17.132",
         "1.455604"
        ],
        [
         "30",
         "1348.859985",
         "75.760002",
         "17.087",
         "1.464408"
        ],
        [
         "31",
         "1349.98999",
         "75.93",
         "16.952",
         "1.46761"
        ],
        [
         "32",
         "1348.780029",
         "78.809998",
         "17.378",
         "1.472993"
        ],
        [
         "33",
         "1360.030029",
         "79.32",
         "17.700001",
         "1.472299"
        ],
        [
         "34",
         "1342.530029",
         "77.330002",
         "17.695999",
         "1.481503"
        ],
        [
         "35",
         "1353.109985",
         "78.599998",
         "17.916",
         "1.482602"
        ],
        [
         "36",
         "1371.800049",
         "78.739998",
         "17.99",
         "1.483591"
        ],
        [
         "37",
         "1381.290039",
         "80.099998",
         "18.6",
         "1.49961"
        ],
        [
         "38",
         "1380.02002",
         "78.919998",
         "19.132999",
         "1.511807"
        ],
        [
         "39",
         "1367.680054",
         "81.480003",
         "19.666",
         "1.519595"
        ],
        [
         "40",
         "1330.630005",
         "80.419998",
         "19.667999",
         "1.519203"
        ],
        [
         "41",
         "1331.339966",
         "81.32",
         "20.163",
         "1.520011"
        ],
        [
         "42",
         "1326.75",
         "79.400002",
         "19.620001",
         "1.521005"
        ],
        [
         "43",
         "1333.699951",
         "83.300003",
         "20.621",
         "1.527697"
        ],
        [
         "44",
         "1304.339966",
         "83.889999",
         "20.075001",
         "1.538509"
        ],
        [
         "45",
         "1293.369995",
         "83.730003",
         "20.040001",
         "1.533601"
        ],
        [
         "46",
         "1273.369995",
         "85.629997",
         "19.475",
         "1.534095"
        ],
        [
         "47",
         "1320.650024",
         "86.339996",
         "19.52",
         "1.534189"
        ],
        [
         "48",
         "1308.77002",
         "86.919998",
         "19.969999",
         "1.554002"
        ],
        [
         "49",
         "1315.47998",
         "87.209999",
         "20.406",
         "1.562207"
        ]
       ],
       "shape": {
        "columns": 4,
        "rows": 2290
       }
      },
      "text/html": [
       "<div>\n",
       "<style scoped>\n",
       "    .dataframe tbody tr th:only-of-type {\n",
       "        vertical-align: middle;\n",
       "    }\n",
       "\n",
       "    .dataframe tbody tr th {\n",
       "        vertical-align: top;\n",
       "    }\n",
       "\n",
       "    .dataframe thead th {\n",
       "        text-align: right;\n",
       "    }\n",
       "</style>\n",
       "<table border=\"1\" class=\"dataframe\">\n",
       "  <thead>\n",
       "    <tr style=\"text-align: right;\">\n",
       "      <th></th>\n",
       "      <th>SPX</th>\n",
       "      <th>USO</th>\n",
       "      <th>SLV</th>\n",
       "      <th>EUR/USD</th>\n",
       "    </tr>\n",
       "  </thead>\n",
       "  <tbody>\n",
       "    <tr>\n",
       "      <th>0</th>\n",
       "      <td>1447.160034</td>\n",
       "      <td>78.470001</td>\n",
       "      <td>15.1800</td>\n",
       "      <td>1.471692</td>\n",
       "    </tr>\n",
       "    <tr>\n",
       "      <th>1</th>\n",
       "      <td>1447.160034</td>\n",
       "      <td>78.370003</td>\n",
       "      <td>15.2850</td>\n",
       "      <td>1.474491</td>\n",
       "    </tr>\n",
       "    <tr>\n",
       "      <th>2</th>\n",
       "      <td>1411.630005</td>\n",
       "      <td>77.309998</td>\n",
       "      <td>15.1670</td>\n",
       "      <td>1.475492</td>\n",
       "    </tr>\n",
       "    <tr>\n",
       "      <th>3</th>\n",
       "      <td>1416.180054</td>\n",
       "      <td>75.500000</td>\n",
       "      <td>15.0530</td>\n",
       "      <td>1.468299</td>\n",
       "    </tr>\n",
       "    <tr>\n",
       "      <th>4</th>\n",
       "      <td>1390.189941</td>\n",
       "      <td>76.059998</td>\n",
       "      <td>15.5900</td>\n",
       "      <td>1.557099</td>\n",
       "    </tr>\n",
       "    <tr>\n",
       "      <th>...</th>\n",
       "      <td>...</td>\n",
       "      <td>...</td>\n",
       "      <td>...</td>\n",
       "      <td>...</td>\n",
       "    </tr>\n",
       "    <tr>\n",
       "      <th>2285</th>\n",
       "      <td>2671.919922</td>\n",
       "      <td>14.060000</td>\n",
       "      <td>15.5100</td>\n",
       "      <td>1.186789</td>\n",
       "    </tr>\n",
       "    <tr>\n",
       "      <th>2286</th>\n",
       "      <td>2697.790039</td>\n",
       "      <td>14.370000</td>\n",
       "      <td>15.5300</td>\n",
       "      <td>1.184722</td>\n",
       "    </tr>\n",
       "    <tr>\n",
       "      <th>2287</th>\n",
       "      <td>2723.070068</td>\n",
       "      <td>14.410000</td>\n",
       "      <td>15.7400</td>\n",
       "      <td>1.191753</td>\n",
       "    </tr>\n",
       "    <tr>\n",
       "      <th>2288</th>\n",
       "      <td>2730.129883</td>\n",
       "      <td>14.380000</td>\n",
       "      <td>15.5600</td>\n",
       "      <td>1.193118</td>\n",
       "    </tr>\n",
       "    <tr>\n",
       "      <th>2289</th>\n",
       "      <td>2725.780029</td>\n",
       "      <td>14.405800</td>\n",
       "      <td>15.4542</td>\n",
       "      <td>1.182033</td>\n",
       "    </tr>\n",
       "  </tbody>\n",
       "</table>\n",
       "<p>2290 rows × 4 columns</p>\n",
       "</div>"
      ],
      "text/plain": [
       "              SPX        USO      SLV   EUR/USD\n",
       "0     1447.160034  78.470001  15.1800  1.471692\n",
       "1     1447.160034  78.370003  15.2850  1.474491\n",
       "2     1411.630005  77.309998  15.1670  1.475492\n",
       "3     1416.180054  75.500000  15.0530  1.468299\n",
       "4     1390.189941  76.059998  15.5900  1.557099\n",
       "...           ...        ...      ...       ...\n",
       "2285  2671.919922  14.060000  15.5100  1.186789\n",
       "2286  2697.790039  14.370000  15.5300  1.184722\n",
       "2287  2723.070068  14.410000  15.7400  1.191753\n",
       "2288  2730.129883  14.380000  15.5600  1.193118\n",
       "2289  2725.780029  14.405800  15.4542  1.182033\n",
       "\n",
       "[2290 rows x 4 columns]"
      ]
     },
     "execution_count": 43,
     "metadata": {},
     "output_type": "execute_result"
    }
   ],
   "source": [
    "x"
   ]
  },
  {
   "cell_type": "markdown",
   "metadata": {},
   "source": [
    "# Splitting into Traning and Test"
   ]
  },
  {
   "cell_type": "code",
   "execution_count": 44,
   "metadata": {},
   "outputs": [],
   "source": [
    "x_train,x_test,y_train,y_test=train_test_split(x,y,test_size=0.3,random_state=42)  "
   ]
  },
  {
   "cell_type": "markdown",
   "metadata": {},
   "source": [
    "# Model"
   ]
  },
  {
   "cell_type": "code",
   "execution_count": 47,
   "metadata": {},
   "outputs": [],
   "source": [
    "regressor=RandomForestRegressor(n_estimators=10000)"
   ]
  },
  {
   "cell_type": "code",
   "execution_count": 48,
   "metadata": {},
   "outputs": [
    {
     "data": {
      "text/html": [
       "<style>#sk-container-id-2 {\n",
       "  /* Definition of color scheme common for light and dark mode */\n",
       "  --sklearn-color-text: #000;\n",
       "  --sklearn-color-text-muted: #666;\n",
       "  --sklearn-color-line: gray;\n",
       "  /* Definition of color scheme for unfitted estimators */\n",
       "  --sklearn-color-unfitted-level-0: #fff5e6;\n",
       "  --sklearn-color-unfitted-level-1: #f6e4d2;\n",
       "  --sklearn-color-unfitted-level-2: #ffe0b3;\n",
       "  --sklearn-color-unfitted-level-3: chocolate;\n",
       "  /* Definition of color scheme for fitted estimators */\n",
       "  --sklearn-color-fitted-level-0: #f0f8ff;\n",
       "  --sklearn-color-fitted-level-1: #d4ebff;\n",
       "  --sklearn-color-fitted-level-2: #b3dbfd;\n",
       "  --sklearn-color-fitted-level-3: cornflowerblue;\n",
       "\n",
       "  /* Specific color for light theme */\n",
       "  --sklearn-color-text-on-default-background: var(--sg-text-color, var(--theme-code-foreground, var(--jp-content-font-color1, black)));\n",
       "  --sklearn-color-background: var(--sg-background-color, var(--theme-background, var(--jp-layout-color0, white)));\n",
       "  --sklearn-color-border-box: var(--sg-text-color, var(--theme-code-foreground, var(--jp-content-font-color1, black)));\n",
       "  --sklearn-color-icon: #696969;\n",
       "\n",
       "  @media (prefers-color-scheme: dark) {\n",
       "    /* Redefinition of color scheme for dark theme */\n",
       "    --sklearn-color-text-on-default-background: var(--sg-text-color, var(--theme-code-foreground, var(--jp-content-font-color1, white)));\n",
       "    --sklearn-color-background: var(--sg-background-color, var(--theme-background, var(--jp-layout-color0, #111)));\n",
       "    --sklearn-color-border-box: var(--sg-text-color, var(--theme-code-foreground, var(--jp-content-font-color1, white)));\n",
       "    --sklearn-color-icon: #878787;\n",
       "  }\n",
       "}\n",
       "\n",
       "#sk-container-id-2 {\n",
       "  color: var(--sklearn-color-text);\n",
       "}\n",
       "\n",
       "#sk-container-id-2 pre {\n",
       "  padding: 0;\n",
       "}\n",
       "\n",
       "#sk-container-id-2 input.sk-hidden--visually {\n",
       "  border: 0;\n",
       "  clip: rect(1px 1px 1px 1px);\n",
       "  clip: rect(1px, 1px, 1px, 1px);\n",
       "  height: 1px;\n",
       "  margin: -1px;\n",
       "  overflow: hidden;\n",
       "  padding: 0;\n",
       "  position: absolute;\n",
       "  width: 1px;\n",
       "}\n",
       "\n",
       "#sk-container-id-2 div.sk-dashed-wrapped {\n",
       "  border: 1px dashed var(--sklearn-color-line);\n",
       "  margin: 0 0.4em 0.5em 0.4em;\n",
       "  box-sizing: border-box;\n",
       "  padding-bottom: 0.4em;\n",
       "  background-color: var(--sklearn-color-background);\n",
       "}\n",
       "\n",
       "#sk-container-id-2 div.sk-container {\n",
       "  /* jupyter's `normalize.less` sets `[hidden] { display: none; }`\n",
       "     but bootstrap.min.css set `[hidden] { display: none !important; }`\n",
       "     so we also need the `!important` here to be able to override the\n",
       "     default hidden behavior on the sphinx rendered scikit-learn.org.\n",
       "     See: https://github.com/scikit-learn/scikit-learn/issues/21755 */\n",
       "  display: inline-block !important;\n",
       "  position: relative;\n",
       "}\n",
       "\n",
       "#sk-container-id-2 div.sk-text-repr-fallback {\n",
       "  display: none;\n",
       "}\n",
       "\n",
       "div.sk-parallel-item,\n",
       "div.sk-serial,\n",
       "div.sk-item {\n",
       "  /* draw centered vertical line to link estimators */\n",
       "  background-image: linear-gradient(var(--sklearn-color-text-on-default-background), var(--sklearn-color-text-on-default-background));\n",
       "  background-size: 2px 100%;\n",
       "  background-repeat: no-repeat;\n",
       "  background-position: center center;\n",
       "}\n",
       "\n",
       "/* Parallel-specific style estimator block */\n",
       "\n",
       "#sk-container-id-2 div.sk-parallel-item::after {\n",
       "  content: \"\";\n",
       "  width: 100%;\n",
       "  border-bottom: 2px solid var(--sklearn-color-text-on-default-background);\n",
       "  flex-grow: 1;\n",
       "}\n",
       "\n",
       "#sk-container-id-2 div.sk-parallel {\n",
       "  display: flex;\n",
       "  align-items: stretch;\n",
       "  justify-content: center;\n",
       "  background-color: var(--sklearn-color-background);\n",
       "  position: relative;\n",
       "}\n",
       "\n",
       "#sk-container-id-2 div.sk-parallel-item {\n",
       "  display: flex;\n",
       "  flex-direction: column;\n",
       "}\n",
       "\n",
       "#sk-container-id-2 div.sk-parallel-item:first-child::after {\n",
       "  align-self: flex-end;\n",
       "  width: 50%;\n",
       "}\n",
       "\n",
       "#sk-container-id-2 div.sk-parallel-item:last-child::after {\n",
       "  align-self: flex-start;\n",
       "  width: 50%;\n",
       "}\n",
       "\n",
       "#sk-container-id-2 div.sk-parallel-item:only-child::after {\n",
       "  width: 0;\n",
       "}\n",
       "\n",
       "/* Serial-specific style estimator block */\n",
       "\n",
       "#sk-container-id-2 div.sk-serial {\n",
       "  display: flex;\n",
       "  flex-direction: column;\n",
       "  align-items: center;\n",
       "  background-color: var(--sklearn-color-background);\n",
       "  padding-right: 1em;\n",
       "  padding-left: 1em;\n",
       "}\n",
       "\n",
       "\n",
       "/* Toggleable style: style used for estimator/Pipeline/ColumnTransformer box that is\n",
       "clickable and can be expanded/collapsed.\n",
       "- Pipeline and ColumnTransformer use this feature and define the default style\n",
       "- Estimators will overwrite some part of the style using the `sk-estimator` class\n",
       "*/\n",
       "\n",
       "/* Pipeline and ColumnTransformer style (default) */\n",
       "\n",
       "#sk-container-id-2 div.sk-toggleable {\n",
       "  /* Default theme specific background. It is overwritten whether we have a\n",
       "  specific estimator or a Pipeline/ColumnTransformer */\n",
       "  background-color: var(--sklearn-color-background);\n",
       "}\n",
       "\n",
       "/* Toggleable label */\n",
       "#sk-container-id-2 label.sk-toggleable__label {\n",
       "  cursor: pointer;\n",
       "  display: flex;\n",
       "  width: 100%;\n",
       "  margin-bottom: 0;\n",
       "  padding: 0.5em;\n",
       "  box-sizing: border-box;\n",
       "  text-align: center;\n",
       "  align-items: start;\n",
       "  justify-content: space-between;\n",
       "  gap: 0.5em;\n",
       "}\n",
       "\n",
       "#sk-container-id-2 label.sk-toggleable__label .caption {\n",
       "  font-size: 0.6rem;\n",
       "  font-weight: lighter;\n",
       "  color: var(--sklearn-color-text-muted);\n",
       "}\n",
       "\n",
       "#sk-container-id-2 label.sk-toggleable__label-arrow:before {\n",
       "  /* Arrow on the left of the label */\n",
       "  content: \"▸\";\n",
       "  float: left;\n",
       "  margin-right: 0.25em;\n",
       "  color: var(--sklearn-color-icon);\n",
       "}\n",
       "\n",
       "#sk-container-id-2 label.sk-toggleable__label-arrow:hover:before {\n",
       "  color: var(--sklearn-color-text);\n",
       "}\n",
       "\n",
       "/* Toggleable content - dropdown */\n",
       "\n",
       "#sk-container-id-2 div.sk-toggleable__content {\n",
       "  max-height: 0;\n",
       "  max-width: 0;\n",
       "  overflow: hidden;\n",
       "  text-align: left;\n",
       "  /* unfitted */\n",
       "  background-color: var(--sklearn-color-unfitted-level-0);\n",
       "}\n",
       "\n",
       "#sk-container-id-2 div.sk-toggleable__content.fitted {\n",
       "  /* fitted */\n",
       "  background-color: var(--sklearn-color-fitted-level-0);\n",
       "}\n",
       "\n",
       "#sk-container-id-2 div.sk-toggleable__content pre {\n",
       "  margin: 0.2em;\n",
       "  border-radius: 0.25em;\n",
       "  color: var(--sklearn-color-text);\n",
       "  /* unfitted */\n",
       "  background-color: var(--sklearn-color-unfitted-level-0);\n",
       "}\n",
       "\n",
       "#sk-container-id-2 div.sk-toggleable__content.fitted pre {\n",
       "  /* unfitted */\n",
       "  background-color: var(--sklearn-color-fitted-level-0);\n",
       "}\n",
       "\n",
       "#sk-container-id-2 input.sk-toggleable__control:checked~div.sk-toggleable__content {\n",
       "  /* Expand drop-down */\n",
       "  max-height: 200px;\n",
       "  max-width: 100%;\n",
       "  overflow: auto;\n",
       "}\n",
       "\n",
       "#sk-container-id-2 input.sk-toggleable__control:checked~label.sk-toggleable__label-arrow:before {\n",
       "  content: \"▾\";\n",
       "}\n",
       "\n",
       "/* Pipeline/ColumnTransformer-specific style */\n",
       "\n",
       "#sk-container-id-2 div.sk-label input.sk-toggleable__control:checked~label.sk-toggleable__label {\n",
       "  color: var(--sklearn-color-text);\n",
       "  background-color: var(--sklearn-color-unfitted-level-2);\n",
       "}\n",
       "\n",
       "#sk-container-id-2 div.sk-label.fitted input.sk-toggleable__control:checked~label.sk-toggleable__label {\n",
       "  background-color: var(--sklearn-color-fitted-level-2);\n",
       "}\n",
       "\n",
       "/* Estimator-specific style */\n",
       "\n",
       "/* Colorize estimator box */\n",
       "#sk-container-id-2 div.sk-estimator input.sk-toggleable__control:checked~label.sk-toggleable__label {\n",
       "  /* unfitted */\n",
       "  background-color: var(--sklearn-color-unfitted-level-2);\n",
       "}\n",
       "\n",
       "#sk-container-id-2 div.sk-estimator.fitted input.sk-toggleable__control:checked~label.sk-toggleable__label {\n",
       "  /* fitted */\n",
       "  background-color: var(--sklearn-color-fitted-level-2);\n",
       "}\n",
       "\n",
       "#sk-container-id-2 div.sk-label label.sk-toggleable__label,\n",
       "#sk-container-id-2 div.sk-label label {\n",
       "  /* The background is the default theme color */\n",
       "  color: var(--sklearn-color-text-on-default-background);\n",
       "}\n",
       "\n",
       "/* On hover, darken the color of the background */\n",
       "#sk-container-id-2 div.sk-label:hover label.sk-toggleable__label {\n",
       "  color: var(--sklearn-color-text);\n",
       "  background-color: var(--sklearn-color-unfitted-level-2);\n",
       "}\n",
       "\n",
       "/* Label box, darken color on hover, fitted */\n",
       "#sk-container-id-2 div.sk-label.fitted:hover label.sk-toggleable__label.fitted {\n",
       "  color: var(--sklearn-color-text);\n",
       "  background-color: var(--sklearn-color-fitted-level-2);\n",
       "}\n",
       "\n",
       "/* Estimator label */\n",
       "\n",
       "#sk-container-id-2 div.sk-label label {\n",
       "  font-family: monospace;\n",
       "  font-weight: bold;\n",
       "  display: inline-block;\n",
       "  line-height: 1.2em;\n",
       "}\n",
       "\n",
       "#sk-container-id-2 div.sk-label-container {\n",
       "  text-align: center;\n",
       "}\n",
       "\n",
       "/* Estimator-specific */\n",
       "#sk-container-id-2 div.sk-estimator {\n",
       "  font-family: monospace;\n",
       "  border: 1px dotted var(--sklearn-color-border-box);\n",
       "  border-radius: 0.25em;\n",
       "  box-sizing: border-box;\n",
       "  margin-bottom: 0.5em;\n",
       "  /* unfitted */\n",
       "  background-color: var(--sklearn-color-unfitted-level-0);\n",
       "}\n",
       "\n",
       "#sk-container-id-2 div.sk-estimator.fitted {\n",
       "  /* fitted */\n",
       "  background-color: var(--sklearn-color-fitted-level-0);\n",
       "}\n",
       "\n",
       "/* on hover */\n",
       "#sk-container-id-2 div.sk-estimator:hover {\n",
       "  /* unfitted */\n",
       "  background-color: var(--sklearn-color-unfitted-level-2);\n",
       "}\n",
       "\n",
       "#sk-container-id-2 div.sk-estimator.fitted:hover {\n",
       "  /* fitted */\n",
       "  background-color: var(--sklearn-color-fitted-level-2);\n",
       "}\n",
       "\n",
       "/* Specification for estimator info (e.g. \"i\" and \"?\") */\n",
       "\n",
       "/* Common style for \"i\" and \"?\" */\n",
       "\n",
       ".sk-estimator-doc-link,\n",
       "a:link.sk-estimator-doc-link,\n",
       "a:visited.sk-estimator-doc-link {\n",
       "  float: right;\n",
       "  font-size: smaller;\n",
       "  line-height: 1em;\n",
       "  font-family: monospace;\n",
       "  background-color: var(--sklearn-color-background);\n",
       "  border-radius: 1em;\n",
       "  height: 1em;\n",
       "  width: 1em;\n",
       "  text-decoration: none !important;\n",
       "  margin-left: 0.5em;\n",
       "  text-align: center;\n",
       "  /* unfitted */\n",
       "  border: var(--sklearn-color-unfitted-level-1) 1pt solid;\n",
       "  color: var(--sklearn-color-unfitted-level-1);\n",
       "}\n",
       "\n",
       ".sk-estimator-doc-link.fitted,\n",
       "a:link.sk-estimator-doc-link.fitted,\n",
       "a:visited.sk-estimator-doc-link.fitted {\n",
       "  /* fitted */\n",
       "  border: var(--sklearn-color-fitted-level-1) 1pt solid;\n",
       "  color: var(--sklearn-color-fitted-level-1);\n",
       "}\n",
       "\n",
       "/* On hover */\n",
       "div.sk-estimator:hover .sk-estimator-doc-link:hover,\n",
       ".sk-estimator-doc-link:hover,\n",
       "div.sk-label-container:hover .sk-estimator-doc-link:hover,\n",
       ".sk-estimator-doc-link:hover {\n",
       "  /* unfitted */\n",
       "  background-color: var(--sklearn-color-unfitted-level-3);\n",
       "  color: var(--sklearn-color-background);\n",
       "  text-decoration: none;\n",
       "}\n",
       "\n",
       "div.sk-estimator.fitted:hover .sk-estimator-doc-link.fitted:hover,\n",
       ".sk-estimator-doc-link.fitted:hover,\n",
       "div.sk-label-container:hover .sk-estimator-doc-link.fitted:hover,\n",
       ".sk-estimator-doc-link.fitted:hover {\n",
       "  /* fitted */\n",
       "  background-color: var(--sklearn-color-fitted-level-3);\n",
       "  color: var(--sklearn-color-background);\n",
       "  text-decoration: none;\n",
       "}\n",
       "\n",
       "/* Span, style for the box shown on hovering the info icon */\n",
       ".sk-estimator-doc-link span {\n",
       "  display: none;\n",
       "  z-index: 9999;\n",
       "  position: relative;\n",
       "  font-weight: normal;\n",
       "  right: .2ex;\n",
       "  padding: .5ex;\n",
       "  margin: .5ex;\n",
       "  width: min-content;\n",
       "  min-width: 20ex;\n",
       "  max-width: 50ex;\n",
       "  color: var(--sklearn-color-text);\n",
       "  box-shadow: 2pt 2pt 4pt #999;\n",
       "  /* unfitted */\n",
       "  background: var(--sklearn-color-unfitted-level-0);\n",
       "  border: .5pt solid var(--sklearn-color-unfitted-level-3);\n",
       "}\n",
       "\n",
       ".sk-estimator-doc-link.fitted span {\n",
       "  /* fitted */\n",
       "  background: var(--sklearn-color-fitted-level-0);\n",
       "  border: var(--sklearn-color-fitted-level-3);\n",
       "}\n",
       "\n",
       ".sk-estimator-doc-link:hover span {\n",
       "  display: block;\n",
       "}\n",
       "\n",
       "/* \"?\"-specific style due to the `<a>` HTML tag */\n",
       "\n",
       "#sk-container-id-2 a.estimator_doc_link {\n",
       "  float: right;\n",
       "  font-size: 1rem;\n",
       "  line-height: 1em;\n",
       "  font-family: monospace;\n",
       "  background-color: var(--sklearn-color-background);\n",
       "  border-radius: 1rem;\n",
       "  height: 1rem;\n",
       "  width: 1rem;\n",
       "  text-decoration: none;\n",
       "  /* unfitted */\n",
       "  color: var(--sklearn-color-unfitted-level-1);\n",
       "  border: var(--sklearn-color-unfitted-level-1) 1pt solid;\n",
       "}\n",
       "\n",
       "#sk-container-id-2 a.estimator_doc_link.fitted {\n",
       "  /* fitted */\n",
       "  border: var(--sklearn-color-fitted-level-1) 1pt solid;\n",
       "  color: var(--sklearn-color-fitted-level-1);\n",
       "}\n",
       "\n",
       "/* On hover */\n",
       "#sk-container-id-2 a.estimator_doc_link:hover {\n",
       "  /* unfitted */\n",
       "  background-color: var(--sklearn-color-unfitted-level-3);\n",
       "  color: var(--sklearn-color-background);\n",
       "  text-decoration: none;\n",
       "}\n",
       "\n",
       "#sk-container-id-2 a.estimator_doc_link.fitted:hover {\n",
       "  /* fitted */\n",
       "  background-color: var(--sklearn-color-fitted-level-3);\n",
       "}\n",
       "</style><div id=\"sk-container-id-2\" class=\"sk-top-container\"><div class=\"sk-text-repr-fallback\"><pre>RandomForestRegressor(n_estimators=10000)</pre><b>In a Jupyter environment, please rerun this cell to show the HTML representation or trust the notebook. <br />On GitHub, the HTML representation is unable to render, please try loading this page with nbviewer.org.</b></div><div class=\"sk-container\" hidden><div class=\"sk-item\"><div class=\"sk-estimator fitted sk-toggleable\"><input class=\"sk-toggleable__control sk-hidden--visually\" id=\"sk-estimator-id-2\" type=\"checkbox\" checked><label for=\"sk-estimator-id-2\" class=\"sk-toggleable__label fitted sk-toggleable__label-arrow\"><div><div>RandomForestRegressor</div></div><div><a class=\"sk-estimator-doc-link fitted\" rel=\"noreferrer\" target=\"_blank\" href=\"https://scikit-learn.org/1.6/modules/generated/sklearn.ensemble.RandomForestRegressor.html\">?<span>Documentation for RandomForestRegressor</span></a><span class=\"sk-estimator-doc-link fitted\">i<span>Fitted</span></span></div></label><div class=\"sk-toggleable__content fitted\"><pre>RandomForestRegressor(n_estimators=10000)</pre></div> </div></div></div></div>"
      ],
      "text/plain": [
       "RandomForestRegressor(n_estimators=10000)"
      ]
     },
     "execution_count": 48,
     "metadata": {},
     "output_type": "execute_result"
    }
   ],
   "source": [
    "regressor.fit(x_train,y_train)"
   ]
  },
  {
   "cell_type": "code",
   "execution_count": 49,
   "metadata": {},
   "outputs": [],
   "source": [
    "data_prediction=regressor.predict(x_test)"
   ]
  },
  {
   "cell_type": "code",
   "execution_count": 50,
   "metadata": {},
   "outputs": [
    {
     "data": {
      "text/plain": [
       "array([122.56907634, 130.21925893, 127.64659193,  97.62952114,\n",
       "       118.9604854 , 114.59864037, 124.85864668, 117.87337165,\n",
       "       107.93300315,  98.59395461,  95.79432683, 167.44504936,\n",
       "       147.65438812, 115.96714567, 170.86572225,  85.2047462 ,\n",
       "       124.21718701, 109.21699422, 112.30498263, 131.60657389,\n",
       "       124.20471744, 113.5843227 , 115.5301637 , 108.75879981,\n",
       "       107.98076073, 125.84379259, 119.24531567, 112.61352385,\n",
       "       113.23064655, 126.13488309, 146.10382162,  89.22424584,\n",
       "       167.50695251, 113.6108463 , 108.24694078, 120.27292584,\n",
       "       141.50897951, 161.15000864, 173.80757661, 153.04232329,\n",
       "       119.51214769, 111.32473678, 121.41326759, 113.70561533,\n",
       "       122.09686799, 107.9929909 ,  88.11754292, 114.22037213,\n",
       "       129.76899742, 117.89391206, 104.15034594, 129.83270061,\n",
       "       107.30852602, 160.75245683, 131.66211569, 117.59076655,\n",
       "       147.11170908, 136.37055168,  95.63307556, 124.65083049,\n",
       "       114.69306954,  86.53534021, 104.28712112, 113.88675165,\n",
       "        84.1865042 , 122.32825453, 116.49401693, 113.62506199,\n",
       "       165.48520375,  92.30174353,  79.83130002, 160.86212319,\n",
       "       157.97759716, 107.03355384, 148.33986849, 109.93896885,\n",
       "       122.08128614, 128.79212007, 113.2305027 , 120.01228379,\n",
       "       135.90652529, 107.74394157,  93.82754534,  92.60770719,\n",
       "       111.75389865, 118.68750904, 108.60522023, 112.15228883,\n",
       "       167.87355894, 160.70710348, 107.57106355, 124.8481459 ,\n",
       "       108.26035899, 114.87737886, 126.89701347, 108.22526551,\n",
       "       162.47549246,  84.80373588, 131.4261222 , 113.93328679,\n",
       "       156.28641499, 110.63906034, 113.97715963, 109.1886805 ,\n",
       "       137.52710866,  88.18625155,  92.43052826, 173.94779473,\n",
       "       118.78801277, 118.6789732 , 121.25668266, 171.65040854,\n",
       "       131.66643187, 119.80851266, 157.58163257, 118.86952042,\n",
       "       119.08179577, 110.84820835, 119.63952731, 121.99488629,\n",
       "       128.95592009, 114.76397   ,  89.51474138, 114.03164829,\n",
       "       132.19578573, 115.41380122, 124.98272506,  90.93181548,\n",
       "       106.81846055, 117.43540022, 110.04947801, 165.92671624,\n",
       "        80.49417283, 121.90242609,  73.06166762, 111.58996295,\n",
       "        99.92671393, 124.22072104,  75.94340887, 125.76681127,\n",
       "       119.7037418 , 106.38605351,  90.12691394, 132.12615429,\n",
       "       139.32604132, 175.20105551, 126.64242524, 126.22695893,\n",
       "       124.00109753,  92.36752794, 149.31530249, 102.90283685,\n",
       "       117.49284188, 134.30455224, 135.68517875, 118.1011306 ,\n",
       "       116.92203364, 102.05473801, 123.81568337,  90.03336138,\n",
       "       108.08660532, 117.7720425 , 168.24998683, 117.33240357,\n",
       "       117.15361466, 155.40945653, 111.12911981,  87.24035868,\n",
       "       117.27001666, 124.3075786 , 121.00105294, 118.28096409,\n",
       "        97.22491347, 109.10549496, 115.01067626, 127.47190144,\n",
       "       156.01229086, 107.98016711, 123.57029623, 139.12388478,\n",
       "        90.73101076, 118.20907203, 130.34523646, 114.08958968,\n",
       "       108.4563774 , 119.06290031, 127.75316759, 125.68011698,\n",
       "       145.21806202, 112.42664551,  93.73208692, 115.0932791 ,\n",
       "       125.57861465, 120.57153858, 122.3301726 ,  92.70203378,\n",
       "       121.35192673,  93.05873246, 119.04217237, 124.95393555,\n",
       "       121.91672434, 131.21954062, 124.30323224, 114.90347932,\n",
       "       127.45857882, 113.28164687, 164.92453356, 122.35336916,\n",
       "       119.48099793, 113.87853614, 120.13010786, 120.04850017,\n",
       "       105.86142099, 116.83195752, 126.14834593, 172.18228669,\n",
       "        85.93767463, 134.36402154, 127.49265226,  73.55876372,\n",
       "       119.25688278,  88.4585438 , 162.99358096,  92.20980621,\n",
       "       158.76910323, 102.29852632, 103.09888337, 102.35607869,\n",
       "       118.60442927, 165.23081138, 120.28655709, 135.47545179,\n",
       "        97.349189  , 113.11332332, 132.32566922, 145.50276526,\n",
       "       125.49424767, 101.49294256, 125.40786787, 160.27597813,\n",
       "       119.662937  , 126.54984198, 127.55984643, 115.40509746,\n",
       "       156.90158893, 128.37544265, 114.52717675, 176.97533212,\n",
       "       120.08202691, 119.07847894, 102.79941858, 160.81430922,\n",
       "       114.781122  , 118.46067047, 125.86575683, 116.76756503,\n",
       "       114.76604765,  90.52832454, 102.03250039, 132.00921765,\n",
       "       118.95967218, 168.19446859, 109.67356826,  86.09914068,\n",
       "        91.80098148, 155.58337654, 157.17561965, 153.36453507,\n",
       "        72.73784513, 120.83234536, 117.38326452, 158.33620537,\n",
       "       135.36296742, 111.78822092, 114.61695509, 160.83447623,\n",
       "       125.94006591, 119.76298758, 117.58886498, 157.91408462,\n",
       "       104.05739773,  89.41498447,  84.21475532,  89.81146039,\n",
       "       115.44310543, 113.54288306, 119.47180906, 119.54488456,\n",
       "        79.7491461 ,  90.52330415, 153.58218351, 119.37402182,\n",
       "       131.84357797, 126.63910699, 113.51614134,  82.33446161,\n",
       "       118.0850268 ,  89.53928965, 117.87796366, 162.95392957,\n",
       "       121.44847308, 110.31282998, 125.5626514 , 114.56183423,\n",
       "       135.74020339,  79.93365689, 163.68749217, 132.34792328,\n",
       "       164.10984864, 127.70433216,  91.98055809, 108.50806536,\n",
       "       114.38427664, 127.63035846, 119.26650877,  92.41674718,\n",
       "       132.18608776, 162.57548668,  72.43419805, 112.37128508,\n",
       "       109.59711697, 113.69390411, 120.10815606, 111.95458764,\n",
       "       120.29149696, 118.47521396, 126.30093417, 125.20015064,\n",
       "       109.66561229, 167.50351171, 169.88547361, 112.33244635,\n",
       "       170.02696759, 112.10381325, 161.15575341, 127.48907769,\n",
       "       167.12455555, 135.25933057, 109.31025252, 167.22124836,\n",
       "       116.68729979,  72.40189355, 113.50369994,  93.05036984,\n",
       "        88.01311398, 104.12845692, 125.30652569, 125.1443607 ,\n",
       "       167.96184138, 121.45615443,  87.13660652, 131.78233238,\n",
       "       121.70610137, 107.69059935, 165.94317812, 126.07035774,\n",
       "       127.09174224, 113.58154982, 134.9393085 , 125.15993625,\n",
       "       144.09131398, 122.96282116, 118.59569159, 120.95604502,\n",
       "       166.70240187,  71.66542517, 163.22527736, 167.54670765,\n",
       "       118.47480853, 103.81392669, 127.94827696, 154.44805596,\n",
       "       172.08622696, 135.02612146, 127.04018461, 123.9178854 ,\n",
       "       153.46203099,  88.17924551, 130.91136564, 111.11422682,\n",
       "       164.2478494 , 156.38633272, 166.1157476 , 121.61591388,\n",
       "        89.8125484 , 132.22659693, 100.19023205, 127.60911375,\n",
       "       127.47577223, 108.56048453,  91.02554275, 153.11629304,\n",
       "        95.12568292,  88.06345685, 124.94228348,  87.1539089 ,\n",
       "        95.24433556, 113.67097755, 156.29181749, 147.51985378,\n",
       "       105.75138593, 166.57323137, 111.34200359, 128.20452069,\n",
       "        90.77831091, 109.60182452,  75.71973279, 110.64580774,\n",
       "       164.18084952, 153.18515664, 152.53730201, 161.68843807,\n",
       "        92.49203602, 117.85890355,  94.01416623, 130.55137241,\n",
       "       117.74595416, 117.34180238, 124.2757025 , 120.75699115,\n",
       "        97.84282945, 167.50394598, 147.21070838, 124.65903099,\n",
       "       170.52962192,  82.97022128, 166.98326271, 130.2721168 ,\n",
       "       119.78376671,  88.50894997, 119.89198275,  83.58091874,\n",
       "       118.61984903, 114.41919018, 116.43686986, 153.02433327,\n",
       "       135.58193153, 118.18600831, 118.84805536, 124.34182904,\n",
       "       115.35385115, 118.54393013, 122.1569709 , 148.05875089,\n",
       "       150.29554478, 168.19719836,  98.51284978, 160.48296968,\n",
       "        93.45274778, 140.24765521, 121.4300504 ,  83.80019579,\n",
       "       106.54976071, 123.20580385, 170.08487501,  93.68899482,\n",
       "        96.49034953, 152.19160575, 153.72513794, 120.88022318,\n",
       "        94.04841821,  81.56098142, 121.63444004, 121.5844606 ,\n",
       "       119.49781743,  92.14174918, 154.3984058 , 152.51926017,\n",
       "       119.02313059, 162.06916359, 127.68753786, 110.99622263,\n",
       "       112.50903627, 110.17272173, 166.20244707, 119.86098091,\n",
       "       111.44984196, 149.51394567,  87.76971307,  99.0317994 ,\n",
       "       117.45147137,  90.72901985, 139.18961657, 149.62124453,\n",
       "       125.21328382, 112.11044208, 165.33662902, 120.30328798,\n",
       "       115.21626354, 103.0310128 , 129.14345664, 115.3857115 ,\n",
       "       124.83923166, 166.49232978, 109.51637954, 119.9216706 ,\n",
       "       116.03450279, 111.91171132, 151.68263766, 139.08970467,\n",
       "       116.80938379,  72.41151993, 140.81856172, 121.12143971,\n",
       "        81.14345264, 124.72168765, 128.24403075, 119.93522579,\n",
       "       126.08842686, 125.39282177, 161.54512348, 142.14217026,\n",
       "        89.3033808 ,  91.35673781, 118.22396098, 109.80352288,\n",
       "        87.55184704, 114.67215458,  91.96909608, 125.25772347,\n",
       "       157.51508535, 159.43187413, 121.35243892,  93.05299724,\n",
       "       116.74184042, 125.92954148, 121.22018721, 120.31221493,\n",
       "       148.72971175, 118.05473689, 140.05653504, 143.64340571,\n",
       "       116.32736487,  90.16631809, 125.00499929, 126.58953357,\n",
       "       119.6528155 , 113.21788334, 124.33309233, 110.95828222,\n",
       "       124.60667654, 110.16374356, 149.38718295, 117.99058661,\n",
       "       125.19985694, 170.18998774,  89.84961154,  92.43727875,\n",
       "       118.65186788, 125.91798182, 118.63969304, 115.96336986,\n",
       "       161.64165941, 111.06819601, 125.82200763, 153.1623993 ,\n",
       "       161.34304873,  83.91341538, 152.5595117 , 101.95436099,\n",
       "       155.50732556, 155.70947772, 120.23586191, 141.10486167,\n",
       "       158.51975273,  84.26935554, 117.24858758, 153.44441506,\n",
       "       120.96782918,  93.99483182, 106.83091318,  92.21968609,\n",
       "       126.21927473,  84.42675383, 108.03453124, 121.93656595,\n",
       "       124.82110384,  73.44755946, 165.28519092, 167.54336113,\n",
       "       110.13222774,  90.52222577, 162.4928636 , 114.83253506,\n",
       "       120.70305136, 168.11131517, 125.49614855,  89.64362429,\n",
       "       146.67227631, 109.65208924, 120.8338217 , 121.97887346,\n",
       "       126.24416767,  87.03861422, 102.23220518, 125.75025075,\n",
       "       124.35162713,  90.70909112, 174.03126006, 152.55019588,\n",
       "       158.51759766, 147.91831579, 165.75094111, 107.93374685,\n",
       "       109.19107546, 128.85242718, 119.7500139 , 120.47620466,\n",
       "       105.13238478,  86.87477482,  90.46215994, 175.83021487,\n",
       "       171.78753276, 119.98674848, 108.37779334, 140.87263447,\n",
       "       161.13467669, 127.20481742,  94.54971733,  86.36395087,\n",
       "       121.2098873 , 124.72222443, 127.22393489, 134.60762493,\n",
       "       113.5003738 , 172.15257203, 125.43851895, 171.89432964,\n",
       "       126.32792204, 109.71406362, 123.25271533,  88.55729764,\n",
       "       126.47585996,  82.94635141, 127.29125216, 119.49275544,\n",
       "       117.0583064 , 124.61883744, 138.71568192, 123.52503779,\n",
       "       151.42233249, 153.4275822 , 160.00760152, 123.54622224,\n",
       "       104.25392072, 109.8311152 , 124.1571437 , 127.0156467 ,\n",
       "       122.68338002, 120.69742213, 111.2124741 ,  97.14373748,\n",
       "       113.42629865, 139.85426352,  90.71360733, 135.05056654,\n",
       "       124.92499673, 119.50008824, 111.98128314, 165.30243529,\n",
       "       128.02291912, 111.58872221, 131.84211358, 105.36981125,\n",
       "       105.66101789, 118.58404333,  89.37377466, 149.14556098,\n",
       "       124.7791698 , 166.63549705, 124.18777445, 124.38478806,\n",
       "       117.92484779, 150.70042446, 107.96343301,  93.11809193,\n",
       "       117.35918655, 125.78766522, 133.54804776, 151.74673488,\n",
       "        93.86675886,  89.10155428, 152.95651341, 121.22055929,\n",
       "       162.13069736, 166.69085294,  92.68553979])"
      ]
     },
     "execution_count": 50,
     "metadata": {},
     "output_type": "execute_result"
    }
   ],
   "source": [
    "data_prediction"
   ]
  },
  {
   "cell_type": "markdown",
   "metadata": {},
   "source": [
    "# Checking Predictions Score"
   ]
  },
  {
   "cell_type": "code",
   "execution_count": 51,
   "metadata": {},
   "outputs": [
    {
     "data": {
      "text/plain": [
       "0.9904280494375785"
      ]
     },
     "execution_count": 51,
     "metadata": {},
     "output_type": "execute_result"
    }
   ],
   "source": [
    "score=metrics.r2_score(y_test,data_prediction)\n",
    "score"
   ]
  },
  {
   "cell_type": "code",
   "execution_count": 52,
   "metadata": {},
   "outputs": [
    {
     "data": {
      "image/png": "[encoded data removed]",
      "text/plain": [
       "<Figure size 800x600 with 1 Axes>"
      ]
     },
     "metadata": {},
     "output_type": "display_data"
    }
   ],
   "source": [
    "plt.figure(figsize=(8, 6))\n",
    "plt.scatter(y_test, data_prediction, color='blue', label='Predicted', alpha=0.7)\n",
    "plt.scatter(y_test, y_test, color='red', label='Actual', alpha=0.7)  # Plotting y = x line for comparison\n",
    "plt.title('Actual vs. Predicted Values for Gold Price')\n",
    "plt.xlabel('Actual Gold Price')\n",
    "plt.ylabel('Predicted Gold Price')\n",
    "plt.legend()\n",
    "plt.grid(True)\n",
    "plt.show()"
   ]
  }
 ],
 "metadata": {
  "kernelspec": {
   "display_name": "Python 3",
   "language": "python",
   "name": "python3"
  },
  "language_info": {
   "codemirror_mode": {
    "name": "ipython",
    "version": 3
   },
   "file_extension": ".py",
   "mimetype": "text/x-python",
   "name": "python",
   "nbconvert_exporter": "python",
   "pygments_lexer": "ipython3",
   "version": "3.13.0"
  }
 },
 "nbformat": 4,
 "nbformat_minor": 2
}
